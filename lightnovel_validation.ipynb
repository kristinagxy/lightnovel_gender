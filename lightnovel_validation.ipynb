{
  "nbformat": 4,
  "nbformat_minor": 0,
  "metadata": {
    "colab": {
      "provenance": [],
      "collapsed_sections": []
    },
    "kernelspec": {
      "name": "python3",
      "display_name": "Python 3"
    },
    "language_info": {
      "name": "python"
    }
  },
  "cells": [
    {
      "cell_type": "code",
      "execution_count": 5,
      "metadata": {
        "id": "GolFSumg0FZ3"
      },
      "outputs": [],
      "source": [
        "import pandas as pd\n",
        "import ast\n",
        "from collections import Counter\n",
        "import random\n",
        "from itertools import compress\n",
        "from tqdm import tqdm\n",
        "from scipy import stats"
      ]
    },
    {
      "cell_type": "code",
      "source": [
        "power = pd.read_csv(\"/content/output_1025.csv\")\n",
        "agency_power = pd.read_csv(\"/content/agency_power_lemma.csv\")"
      ],
      "metadata": {
        "id": "V8Gup2TS0J9p"
      },
      "execution_count": 19,
      "outputs": []
    },
    {
      "cell_type": "code",
      "source": [
        "def calculate_power(agent,patient):\n",
        "  # calculate the power of a character using the power frames lexicon\n",
        "  # input: agent_dict and patient_dict\n",
        "  length = 0\n",
        "  power = 0\n",
        "\n",
        "  # verbs for which the character is the agent\n",
        "  for i in list(agent.keys()):\n",
        "    length += agent[i]\n",
        "    if i in list(agency_power[\"verb\"]):\n",
        "      index = list(agency_power[\"verb\"]).index(i)\n",
        "      if index != -1:\n",
        "        if agency_power[\"power\"][index] == \"power_agent\":\n",
        "          power += 1 * agent[i]\n",
        "        elif agency_power[\"power\"][index] == \"power_theme\":\n",
        "          power -= 1 * agent[i]\n",
        "\n",
        "  # verbs for which the character is the patient\n",
        "  for i in list(patient.keys()):\n",
        "    length += patient[i]\n",
        "    if i in list(agency_power[\"verb\"]):\n",
        "      index = list(agency_power[\"verb\"]).index(i)\n",
        "      if index != -1:\n",
        "        if agency_power[\"power\"][index] == \"power_agent\":\n",
        "          power -= 1 * patient[i]\n",
        "        elif agency_power[\"power\"][index] == \"power_theme\":\n",
        "          power += 1 * patient[i]\n",
        "  try:\n",
        "    normalized_power = power/length # normalize the power\n",
        "  except:\n",
        "    normalized_power = \"/\"\n",
        "\n",
        "  return normalized_power"
      ],
      "metadata": {
        "id": "57Iprq3i0S8-"
      },
      "execution_count": 150,
      "outputs": []
    },
    {
      "cell_type": "code",
      "source": [
        "my_power = power"
      ],
      "metadata": {
        "id": "D2sfdwQT0Spy"
      },
      "execution_count": 151,
      "outputs": []
    },
    {
      "cell_type": "code",
      "source": [
        "power = my_power[my_power.stage == 1].reset_index(drop = True) # change the stage number here to choose the stage"
      ],
      "metadata": {
        "id": "x9-tpSG3tZIc"
      },
      "execution_count": 105,
      "outputs": []
    },
    {
      "cell_type": "code",
      "source": [
        "counter_agent = Counter()\n",
        "counter_patient = Counter()"
      ],
      "metadata": {
        "id": "-qAi6nbT3kNN"
      },
      "execution_count": 152,
      "outputs": []
    },
    {
      "cell_type": "code",
      "source": [
        "power"
      ],
      "metadata": {
        "id": "_C-iy94coS4_"
      },
      "execution_count": null,
      "outputs": []
    },
    {
      "cell_type": "code",
      "source": [
        "power = power[[i.startswith(\"{\") for i in power.agent]].reset_index(drop=True)\n",
        "power = power[[i.startswith(\"{\") for i in power.patient]].reset_index(drop=True)\n",
        "power"
      ],
      "metadata": {
        "id": "uQQhbR0xuyU3"
      },
      "execution_count": null,
      "outputs": []
    },
    {
      "cell_type": "code",
      "source": [
        "power = power[['name', 'gender','genre','power','agent','patient','stage']]"
      ],
      "metadata": {
        "id": "8KMItvW6xoFM"
      },
      "execution_count": 98,
      "outputs": []
    },
    {
      "cell_type": "code",
      "source": [
        "# the whole collections of verbs divided by agent and patient\n",
        "for i in power.agent:\n",
        "  counter_agent.update(ast.literal_eval(i))\n",
        "\n",
        "for i in power.patient:\n",
        "  counter_patient.update(ast.literal_eval(i))"
      ],
      "metadata": {
        "id": "USoS_PxG49g3"
      },
      "execution_count": 155,
      "outputs": []
    },
    {
      "cell_type": "code",
      "source": [
        "agent_list = []\n",
        "for key,value in counter_agent.items():\n",
        "  agent_list.extend([key]*value)\n",
        "\n",
        "patient_list = []\n",
        "for key,value in counter_patient.items():\n",
        "  patient_list.extend([key]*value)\n"
      ],
      "metadata": {
        "id": "6h71MlnFCRsb"
      },
      "execution_count": 156,
      "outputs": []
    },
    {
      "cell_type": "code",
      "source": [
        "len(agent_list),len(patient_list)"
      ],
      "metadata": {
        "colab": {
          "base_uri": "https://localhost:8080/"
        },
        "id": "RD-598UTEhU1",
        "outputId": "df6587df-4106-4549-c654-33bb889a3c66"
      },
      "execution_count": 157,
      "outputs": [
        {
          "output_type": "execute_result",
          "data": {
            "text/plain": [
              "(60052, 10957)"
            ]
          },
          "metadata": {},
          "execution_count": 157
        }
      ]
    },
    {
      "cell_type": "code",
      "source": [
        "# number of verbs for each character\n",
        "num_verb = [sum(ast.literal_eval(power.agent[i]).values())+sum(ast.literal_eval(power.patient[i]).values()) for i in range(len(power))]"
      ],
      "metadata": {
        "id": "WykdrTxa-icy"
      },
      "execution_count": 158,
      "outputs": []
    },
    {
      "cell_type": "code",
      "source": [
        "# indices to randomly choose verbs for each character\n",
        "idx = []\n",
        "for i in range(len(num_verb)):\n",
        "  idx.extend([i]*num_verb[i])"
      ],
      "metadata": {
        "id": "ZOeuvM7p_mLf"
      },
      "execution_count": 159,
      "outputs": []
    },
    {
      "cell_type": "code",
      "source": [
        "# randomly shuffle the indices\n",
        "random.shuffle(idx)\n",
        "agent_idx = idx[:len(agent_list)]\n",
        "patient_idx = idx[len(agent_list):]"
      ],
      "metadata": {
        "id": "lNrC_Hcq9rlq"
      },
      "execution_count": 160,
      "outputs": []
    },
    {
      "cell_type": "code",
      "source": [
        "def validate(num):\n",
        "  power[f\"validation{num}\"] = 0;\n",
        "  random.shuffle(idx)\n",
        "  agent_idx = idx[:len(agent_list)]\n",
        "  patient_idx = idx[len(agent_list):]\n",
        "  for i in tqdm(range(len(power))):\n",
        "    select_patient = [x == i for x in patient_idx]\n",
        "    select_agent = [x == i for x in agent_idx]\n",
        "\n",
        "    the_patient = list(compress(patient_list, select_patient))\n",
        "    the_agent = list(compress(agent_list, select_agent))\n",
        "\n",
        "    agent_dict = dict(Counter(the_agent))\n",
        "    patient_dict = dict(Counter(the_patient))\n",
        "\n",
        "    power.loc[i,f\"validation{num}\"] = calculate_power(agent_dict,patient_dict)\n"
      ],
      "metadata": {
        "id": "EJfsNM64J620"
      },
      "execution_count": 161,
      "outputs": []
    },
    {
      "cell_type": "code",
      "source": [
        "for i in range(100):\n",
        "  # run 100 validations!\n",
        "  validate(i)"
      ],
      "metadata": {
        "id": "tRwVwfP9ydkV"
      },
      "execution_count": null,
      "outputs": []
    },
    {
      "cell_type": "code",
      "source": [
        "power.to_csv(\"/content/power_stage1_validation.csv\",index=False)"
      ],
      "metadata": {
        "id": "dk3NhWm47GIv"
      },
      "execution_count": 165,
      "outputs": []
    },
    {
      "cell_type": "markdown",
      "source": [
        "## start validation\n",
        "\n"
      ],
      "metadata": {
        "id": "skw14jgn8Vve"
      }
    },
    {
      "cell_type": "code",
      "source": [
        "power1 = pd.read_csv(\"/content/power_stage1_validation.csv\")\n",
        "power2 = pd.read_csv(\"/content/power_stage2_validation.csv\")\n",
        "power3 = pd.read_csv(\"/content/power_stage3_validation.csv\")\n",
        "power4 = pd.read_csv(\"/content/power_stage4_validation.csv\")\n",
        "power5 = pd.read_csv(\"/content/power_stage5_validation.csv\")"
      ],
      "metadata": {
        "id": "ErvUg_24V9W7"
      },
      "execution_count": null,
      "outputs": []
    },
    {
      "cell_type": "code",
      "source": [
        "power = power1 # change the number to get validate the stage of interest"
      ],
      "metadata": {
        "id": "5HmTtEMV8ZVp"
      },
      "execution_count": 231,
      "outputs": []
    },
    {
      "cell_type": "code",
      "source": [
        "p_f = power[power.gender == \"she/her\"]\n",
        "p_m = power[power.gender == \"he/him/his\"]"
      ],
      "metadata": {
        "id": "_Iagkqqa0GK-"
      },
      "execution_count": 232,
      "outputs": []
    },
    {
      "cell_type": "code",
      "source": [
        "val_names = []\n",
        "for i in p_f.columns:\n",
        "  if i.startswith(\"validation\"):\n",
        "    val_names.append(i)\n",
        "len(val_names)"
      ],
      "metadata": {
        "colab": {
          "base_uri": "https://localhost:8080/"
        },
        "id": "4UixN3UD8oRO",
        "outputId": "7fb9cf30-d3c4-4ccb-850d-ac175cdef99c"
      },
      "execution_count": 233,
      "outputs": [
        {
          "output_type": "execute_result",
          "data": {
            "text/plain": [
              "100"
            ]
          },
          "metadata": {},
          "execution_count": 233
        }
      ]
    },
    {
      "cell_type": "code",
      "source": [
        "whole_f = [p_f[i].mean() for i in val_names]\n",
        "curr_mean_f = p_f.power.mean()\n",
        "whole_m = [p_m[i].mean() for i in val_names]\n",
        "curr_mean_m = p_m.power.mean()"
      ],
      "metadata": {
        "id": "WB3Z0DVh8fEJ"
      },
      "execution_count": 234,
      "outputs": []
    },
    {
      "cell_type": "code",
      "source": [
        "import numpy as np\n",
        "np.mean(whole_f),np.mean(whole_m) # mean of simulated means"
      ],
      "metadata": {
        "colab": {
          "base_uri": "https://localhost:8080/"
        },
        "id": "C7N0HF9XE5AF",
        "outputId": "0563ca70-df10-4fe8-b639-feb83a1d8062"
      },
      "execution_count": 235,
      "outputs": [
        {
          "output_type": "execute_result",
          "data": {
            "text/plain": [
              "(0.20337900283921723, 0.2014233454944071)"
            ]
          },
          "metadata": {},
          "execution_count": 235
        }
      ]
    },
    {
      "cell_type": "code",
      "source": [
        "from statistics import stdev\n",
        "from scipy.stats import t"
      ],
      "metadata": {
        "colab": {
          "base_uri": "https://localhost:8080/"
        },
        "id": "x-co_FsQMpel",
        "outputId": "cbef63bb-99de-4f11-adc5-32954316bdb2"
      },
      "execution_count": 236,
      "outputs": [
        {
          "output_type": "execute_result",
          "data": {
            "text/plain": [
              "0.13292113053102939"
            ]
          },
          "metadata": {},
          "execution_count": 236
        }
      ]
    },
    {
      "cell_type": "code",
      "source": [
        "# the p values\n",
        "print(t.cdf((curr_mean_f-np.mean(whole_f))/stdev(whole_f),100)*2)\n",
        "print((t.cdf((curr_mean_m-np.mean(whole_m))/stdev(whole_m),100))*2)\n",
        "# print((1-t.cdf((curr_mean_m-np.mean(whole_m))/stdev(whole_m),100))*2) # use this for stage 5 male"
      ],
      "metadata": {
        "colab": {
          "base_uri": "https://localhost:8080/"
        },
        "id": "qs4cWd060X5C",
        "outputId": "4c2d94ee-71ea-4115-d0cd-c8ff26a34512"
      },
      "execution_count": 237,
      "outputs": [
        {
          "output_type": "stream",
          "name": "stdout",
          "text": [
            "0.9721417088508926\n",
            "0.8083846499835313\n"
          ]
        }
      ]
    },
    {
      "cell_type": "code",
      "source": [
        "curr_mean_m, curr_mean_f # calculated means"
      ],
      "metadata": {
        "id": "A-_OLSM40b-i"
      },
      "execution_count": null,
      "outputs": []
    },
    {
      "cell_type": "code",
      "source": [],
      "metadata": {
        "id": "Bji3PJe6IeOd"
      },
      "execution_count": null,
      "outputs": []
    }
  ]
}