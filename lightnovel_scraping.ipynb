{
  "nbformat": 4,
  "nbformat_minor": 0,
  "metadata": {
    "colab": {
      "name": "340scraping.ipynb",
      "provenance": [],
      "collapsed_sections": []
    },
    "kernelspec": {
      "display_name": "Python 3",
      "name": "python3"
    },
    "language_info": {
      "name": "python"
    }
  },
  "cells": [
    {
      "cell_type": "markdown",
      "metadata": {
        "id": "IVWDSNo6dda1"
      },
      "source": [
        "# Scraping the novels from Baka-Tsuki"
      ]
    },
    {
      "cell_type": "code",
      "metadata": {
        "id": "i6Je3FF8QxV9"
      },
      "source": [
        "import requests\n",
        "from bs4 import BeautifulSoup\n",
        "import os\n",
        "import re\n",
        "import pickle\n",
        "from os import path"
      ],
      "execution_count": null,
      "outputs": []
    },
    {
      "cell_type": "code",
      "metadata": {
        "id": "soip0y2Bv-ZI"
      },
      "source": [
        "base_url = \"https://www.baka-tsuki.org\""
      ],
      "execution_count": null,
      "outputs": []
    },
    {
      "cell_type": "code",
      "metadata": {
        "id": "wWuF9d_br3cC"
      },
      "source": [
        "resp = requests.get(\"https://www.baka-tsuki.org/project/index.php?title=Category:Light_novel_(English)\")\n",
        "html_str = resp.text\n",
        "document = BeautifulSoup(html_str, \"html.parser\")"
      ],
      "execution_count": null,
      "outputs": []
    },
    {
      "cell_type": "markdown",
      "metadata": {
        "id": "7eXE_gBsdmtE"
      },
      "source": [
        "### create a dictionary with book name, genre and url to the book:"
      ]
    },
    {
      "cell_type": "code",
      "metadata": {
        "id": "fADCaYebr3e-"
      },
      "source": [
        "all_doc = document.find_all(\"div\", attrs={\"class\": \"mw-category-group\"})\n",
        "\n",
        "all_dict = {}\n",
        "\n",
        "for i in all_doc:\n",
        "  for x in i.find_all(\"a\"):\n",
        "    a = x[\"href\"]\n",
        "    b = a.replace(\"/project/index.php?title=\",\"\")\n",
        "\n",
        "    information_dict = {}\n",
        "\n",
        "    book_url = base_url + a\n",
        "\n",
        "    doc = BeautifulSoup(requests.get(book_url).text, \"html.parser\")\n",
        "    genre = [i.text[8:] for i in doc.find_all(\"a\", attrs={\"title\": re.compile(\"^Category:Genre -.*\")})]\n",
        "      \n",
        "    information_dict[\"url\"] = book_url\n",
        "    information_dict[\"genre\"] = genre\n",
        "\n",
        "    if genre != []:\n",
        "      all_dict[b] = information_dict\n",
        "  \n"
      ],
      "execution_count": null,
      "outputs": []
    },
    {
      "cell_type": "code",
      "metadata": {
        "id": "d-qpomMRr3nl"
      },
      "source": [
        "import pickle\n",
        "# save the dictionary of book informations\n",
        "pickle.dump(all_dict, open('all_dict.pickle', 'wb'))"
      ],
      "execution_count": null,
      "outputs": []
    },
    {
      "cell_type": "code",
      "metadata": {
        "id": "l5UmYRUqr3r0"
      },
      "source": [
        "my_dict = pickle.load(open('all_dict.pickle', 'rb'))"
      ],
      "execution_count": null,
      "outputs": []
    },
    {
      "cell_type": "code",
      "metadata": {
        "id": "tvBRYtE6hYmC"
      },
      "source": [
        "path = \"../light_novel\"\n",
        "os.mkdir(path)"
      ],
      "execution_count": null,
      "outputs": []
    },
    {
      "cell_type": "markdown",
      "metadata": {
        "id": "229migHgdzuA"
      },
      "source": [
        "### create a method to get chapters link from the book link:"
      ]
    },
    {
      "cell_type": "code",
      "metadata": {
        "id": "j_LpKwpixyna"
      },
      "source": [
        "def get_chapters_link(key, value):\n",
        "  # key and value are from the dictionary with book name, genre and url we created just now\n",
        "  \n",
        "  url = value[\"url\"]\n",
        "  title = key[0:key.find(\"_\")]\n",
        "\n",
        "  html = requests.get(url).text\n",
        "  document = BeautifulSoup(html, \"html.parser\")\n",
        "\n",
        "  selected = document.find_all(\"a\", attrs={\"title\":re.compile(\".*Chapter.*\")})\n",
        "  text_links = {}\n",
        "  for i in selected:\n",
        "    url = base_url + i[\"href\"]\n",
        "    text_links[i[\"title\"]] = url\n",
        "\n",
        "  another_selected = document.find_all(\"a\", attrs={\"title\":re.compile(\".*Phase.*\")})\n",
        "  for i in another_selected:\n",
        "    url = base_url + i[\"href\"]\n",
        "    text_links[i[\"title\"]] = url\n",
        "\n",
        "  return text_links"
      ],
      "execution_count": null,
      "outputs": []
    },
    {
      "cell_type": "markdown",
      "metadata": {
        "id": "w7dcFKEzd5fa"
      },
      "source": [
        "### create a method to get text from chapter link:"
      ]
    },
    {
      "cell_type": "code",
      "metadata": {
        "id": "KpoaQ903Od6e"
      },
      "source": [
        "def get_text(url):\n",
        "  html = requests.get(url).text\n",
        "  document = BeautifulSoup(html, \"html.parser\")\n",
        "  text = \"\"\n",
        "  for i in document.find_all(\"p\"):\n",
        "    text += i.text\n",
        "  return text"
      ],
      "execution_count": null,
      "outputs": []
    },
    {
      "cell_type": "markdown",
      "metadata": {
        "id": "BJrYG6TmeANs"
      },
      "source": [
        "### get chapter links for the books using the method and take a look:"
      ]
    },
    {
      "cell_type": "code",
      "metadata": {
        "id": "k9i_KomkJEkw"
      },
      "source": [
        "for key,value in my_dict.items():\n",
        "  a = get_chapters_link(key,value)\n",
        "  if a != {}:\n",
        "    print(a)"
      ],
      "execution_count": null,
      "outputs": []
    },
    {
      "cell_type": "markdown",
      "metadata": {
        "id": "mMZ8FNxUePD6"
      },
      "source": [
        "### create a method to return the volume number from book name:"
      ]
    },
    {
      "cell_type": "code",
      "metadata": {
        "id": "n3KT4tOQJpNk"
      },
      "source": [
        "def get_volume_number(name):\n",
        "  index = name.find(\"Volume\")\n",
        "  if index == -1:\n",
        "    return -1\n",
        "  else:\n",
        "    if name[index+6].isdigit():\n",
        "      return name[index+6]\n",
        "    elif name[index+7].isdigit():\n",
        "      return name[index+7]\n"
      ],
      "execution_count": null,
      "outputs": []
    },
    {
      "cell_type": "markdown",
      "metadata": {
        "id": "KgfuySYXeUts"
      },
      "source": [
        "### loop through the book links, get chapter links for each book, and read the text from each chapter. Finally, write the texts to text files and group them by volume."
      ]
    },
    {
      "cell_type": "code",
      "metadata": {
        "colab": {
          "base_uri": "https://localhost:8080/"
        },
        "id": "oCNRGYpkI-Yc",
        "outputId": "cd0cb503-d28d-4489-8efd-0e725034fb3b"
      },
      "source": [
        "\n",
        "for key,value in my_dict.items():\n",
        "\n",
        "  a = get_chapters_link(key,value)\n",
        "\n",
        "  if a != {}:\n",
        "    mypath = f\"../light_novel/{key}\"\n",
        "    os.mkdir(mypath)\n",
        "    \n",
        "    for thetitle, theurl in a.items():\n",
        "\n",
        "      mytext = get_text(theurl)\n",
        "      thetitle = thetitle.replace(\"/\",\" \")\n",
        "      volume_number = get_volume_number(thetitle)\n",
        "\n",
        "      if volume_number != -1:\n",
        "        mypath = f\"../light_novel/{key}/Volume{volume_number}\"\n",
        "        if path.exists(mypath) == False:\n",
        "          os.mkdir(mypath)\n",
        "\n",
        "      with open (f'{mypath}/{thetitle}', 'w') as f:\n",
        "        f.write(mytext)\n",
        "\n",
        "    print(f\"finish writing {key}\")\n",
        "\n",
        "\n",
        "\n",
        "\n"
      ],
      "execution_count": null,
      "outputs": [
        {
          "name": "stdout",
          "output_type": "stream",
          "text": [
            "finish writing Absolute_Duo\n",
            "finish writing Anohana:_The_Flower_We_Saw_That_Day\n",
            "finish writing Apocalypse_Witch\n",
            "finish writing Baka_to_Test_to_Shoukanjuu\n",
            "finish writing BlazBlue\n",
            "finish writing Chrome_Shelled_Regios\n",
            "finish writing The_Circumstances_Leading_to_Waltraute%27s_Marriage\n",
            "finish writing City_Series\n",
            "finish writing Cute_Kunoichis\n",
            "finish writing Dai_Densetsu_no_Y%C5%ABsha_no_Densetsu\n",
            "finish writing Dantalian_no_Shoka\n",
            "finish writing Denpa_Onna_to_Seishun_Otoko\n",
            "finish writing Ghost_Hunt\n",
            "finish writing Godhorn_Tech\n",
            "finish writing Golden_Time\n",
            "finish writing Gundam_Unicorn\n",
            "finish writing Hagure_Yuusha_no_Aesthetica\n",
            "finish writing Hanbun_no_Tsuki_ga_Noboru_Sora\n",
            "finish writing HEAVY_OBJECT\n",
            "finish writing Hikaru_ga_Chikyuu_ni_Itakoro......\n",
            "finish writing Hyouka\n",
            "finish writing Kami-sama_no_Inai_Nichiyoubi\n",
            "finish writing Kamisama_no_Memochou\n",
            "finish writing Kanon\n",
            "finish writing Kara_no_Kyoukai\n",
            "finish writing Kaze_no_Stigma\n",
            "finish writing Kino_no_Tabi\n",
            "finish writing Kyoukai_Senjou_no_Horizon\n",
            "finish writing Madan_no_Ou_to_Vanadis\n",
            "finish writing Magika_No_Kenshi_To_Shoukan_Maou\n",
            "finish writing Maou_na_Ore_to_Fushihime_no_Yubiwa\n",
            "finish writing Maria-sama_ga_Miteru\n",
            "finish writing Maru-MA\n",
            "finish writing Masou_Gakuen_HxH\n",
            "finish writing Mimizuku_to_Yoru_no_Ou\n",
            "finish writing Mondaiji-tachi_ga_isekai_kara_kuru_soudesu_yo\n",
            "finish writing Monster_Hunter\n",
            "finish writing Nogizaka_Haruka_no_Himitsu\n",
            "finish writing Omae_o_Otaku_ni_Shiteyaru_kara,_Ore_o_Riajuu_ni_Shitekure!\n",
            "finish writing Onii-chan_Dakedo_Ai_Sae_Areba_Kankei_Nai_yo_ne%E2%80%94\n",
            "finish writing Ore_no_Kanojo_to_Osananajimi_ga_Shuraba_Sugiru\n",
            "finish writing Ore_no_Nounai_Sentakushi_ga,_Gakuen_Love_Come_o_Zenryoku_de_Jama_Shiteiru\n",
            "finish writing Ore,_Twintail_ni_Narimasu\n",
            "finish writing PuiPui\n",
            "finish writing Rakuin_no_Monshou\n",
            "finish writing Rental_Magica\n",
            "finish writing Seikoku_no_Ryuu_Kishi\n",
            "finish writing Shinmai_Maou_no_Keiyakusha\n",
            "finish writing A_Simple_Survey\n",
            "finish writing SOLARIS_the_Abyssal\n",
            "finish writing Sorcery_Hacker\n",
            "finish writing Strike_Witches\n",
            "finish writing The_Unexplored_Summon_Blood_Sign\n",
            "finish writing Toaru_Majutsu_no_Index:_Genesis_Testament\n",
            "finish writing Toaru_Majutsu_no_Index:_New_Testament\n",
            "finish writing Tsurugi_no_Joou_to_Rakuin_no_Ko\n",
            "finish writing White_Album_2_Omake\n",
            "finish writing The_World_God_Only_Knows\n",
            "finish writing Zero_no_Tsukaima\n"
          ]
        }
      ]
    },
    {
      "cell_type": "code",
      "metadata": {
        "id": "d1jKx4g9sLr8"
      },
      "source": [
        "!zip -r ../light_novel.zip ../light_novel"
      ],
      "execution_count": null,
      "outputs": []
    },
    {
      "cell_type": "code",
      "metadata": {
        "id": "RDU6ZpUlC5zZ"
      },
      "source": [],
      "execution_count": null,
      "outputs": []
    },
    {
      "cell_type": "code",
      "metadata": {
        "id": "VDP0soFa6I73"
      },
      "source": [],
      "execution_count": null,
      "outputs": []
    }
  ]
}