{
  "nbformat": 4,
  "nbformat_minor": 0,
  "metadata": {
    "colab": {
      "name": "Preparing agency_power_lemma csv.ipynb",
      "provenance": []
    },
    "kernelspec": {
      "name": "python3",
      "display_name": "Python 3"
    },
    "language_info": {
      "name": "python"
    }
  },
  "cells": [
    {
      "cell_type": "markdown",
      "metadata": {
        "id": "ZiXvJ2NjJuPI"
      },
      "source": [
        "## Preparing agency_power_lemma csv\n",
        "We read the `agency_power.csv` used for calculating power. `agency_power.csv` documents the relative power and agency between the agent and theme of a verb.\n",
        "We put the verbs in the csv into lemma form to prepare for matching."
      ]
    },
    {
      "cell_type": "code",
      "metadata": {
        "id": "T91TG7PQJPdK"
      },
      "source": [
        "import pandas as pd\n",
        "agency_power = pd.read_csv(\"../content/agency_power.csv\")"
      ],
      "execution_count": null,
      "outputs": []
    },
    {
      "cell_type": "code",
      "metadata": {
        "id": "pB0wnZ_YJoXZ"
      },
      "source": [
        "import spacy\n",
        "nlp = spacy.load(\"en_core_web_sm\")"
      ],
      "execution_count": null,
      "outputs": []
    },
    {
      "cell_type": "code",
      "metadata": {
        "id": "rLY2N6PFJXSv"
      },
      "source": [
        "def make_lemma(word):\n",
        "  doc = nlp(word)\n",
        "  a = \"\"\n",
        "  for x in range(len(doc)):\n",
        "    if x == 0:\n",
        "      a += doc[x].lemma_\n",
        "    else:\n",
        "      a += \" \"\n",
        "      a += doc[x].lemma_\n",
        "  return a"
      ],
      "execution_count": null,
      "outputs": []
    },
    {
      "cell_type": "code",
      "metadata": {
        "id": "MO_4ukspJTHh"
      },
      "source": [
        "for i in range(len(agency_power[\"verb\"])):\n",
        "  word = agency_power[\"verb\"][i]\n",
        "  result = make_lemma(word)\n",
        "  agency_power[\"verb\"][i] = result\n",
        "    \n",
        "agency_power.to_csv('agency_power_lemma.csv', index=False)  "
      ],
      "execution_count": null,
      "outputs": []
    },
    {
      "cell_type": "code",
      "metadata": {
        "id": "LYpYwtNgJp5P"
      },
      "source": [
        ""
      ],
      "execution_count": null,
      "outputs": []
    }
  ]
}