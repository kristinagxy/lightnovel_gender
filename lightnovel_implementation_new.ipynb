{
  "cells": [
    {
      "cell_type": "code",
      "execution_count": null,
      "metadata": {
        "id": "IZxx1Hq3dNxL"
      },
      "outputs": [],
      "source": [
        "import os\n",
        "import re\n",
        "import pickle\n",
        "from os import path\n",
        "import pandas as pd\n",
        "import numpy as np\n",
        "import json\n",
        "from collections import Counter"
      ]
    },
    {
      "cell_type": "markdown",
      "metadata": {
        "id": "RYMXY1Nde--W"
      },
      "source": [
        "# implementation"
      ]
    },
    {
      "cell_type": "markdown",
      "metadata": {
        "id": "eQOjOlhIdlxI"
      },
      "source": [
        "## set up"
      ]
    },
    {
      "cell_type": "code",
      "execution_count": null,
      "metadata": {
        "id": "3e1MKtaCeHpW"
      },
      "outputs": [],
      "source": [
        "!pip install booknlp"
      ]
    },
    {
      "cell_type": "code",
      "execution_count": null,
      "metadata": {
        "id": "yeZgkgHUeD7T"
      },
      "outputs": [],
      "source": [
        "!python -m spacy download en_core_web_sm"
      ]
    },
    {
      "cell_type": "code",
      "execution_count": null,
      "metadata": {
        "id": "Yebfcixcdk_E"
      },
      "outputs": [],
      "source": [
        "from booknlp.booknlp import BookNLP\n",
        "model_params={\n",
        "\t\t\"pipeline\":\"entity,quote,event,coref\", \n",
        "\t\t\"model\":\"small\" \n",
        "\t}\n",
        "\n",
        "booknlp = BookNLP(\"en\", model_params)"
      ]
    },
    {
      "cell_type": "code",
      "execution_count": null,
      "metadata": {
        "id": "dn1oVJ7cdWq_"
      },
      "outputs": [],
      "source": [
        "!unzip -q /content/light_novel_original.zip"
      ]
    },
    {
      "cell_type": "code",
      "execution_count": null,
      "metadata": {
        "id": "C9CRg86Ovatu"
      },
      "outputs": [],
      "source": [
        "# get the list of series in the corpus\n",
        "series_list = os.listdir(f\"/content/light_novel\")\n",
        "series_list = [i for i in series_list if not i.startswith(\".\")]"
      ]
    },
    {
      "cell_type": "markdown",
      "metadata": {
        "id": "RRh71FgNubee"
      },
      "source": [
        "## methods"
      ]
    },
    {
      "cell_type": "code",
      "execution_count": null,
      "metadata": {
        "id": "X3VKieCF2wVL"
      },
      "outputs": [],
      "source": [
        "import re"
      ]
    },
    {
      "cell_type": "code",
      "execution_count": null,
      "metadata": {
        "id": "_UqhyPD_eBDn"
      },
      "outputs": [],
      "source": [
        "def find_last_digit(string):\n",
        "  # return the number at the end of a string\n",
        "  # the numbers can be at most two digits\n",
        "  # e.g. find_last_digit(\"string12\") = 12\n",
        "  #      find_last_digit(\"string2\") = 2\n",
        "\n",
        "  s = re.findall(\"[0-9]{1,2}\", string)\n",
        "  return int(s[-1])"
      ]
    },
    {
      "cell_type": "code",
      "execution_count": null,
      "metadata": {
        "id": "irU23jcwueMU"
      },
      "outputs": [],
      "source": [
        "def sort_chapters(chapter_list):\n",
        "  # sort a list of chapters in ascending order\n",
        "  \n",
        "  return sorted(chapter_list,key = find_last_digit)"
      ]
    },
    {
      "cell_type": "code",
      "execution_count": null,
      "metadata": {
        "id": "KI0_8Wf8ugan"
      },
      "outputs": [],
      "source": [
        "def proc(filename):\n",
        "  # loading a file and return in json format\n",
        "  \n",
        "  with open(filename) as file:\n",
        "    data=json.load(file)\n",
        "  return data"
      ]
    },
    {
      "cell_type": "code",
      "execution_count": null,
      "metadata": {
        "id": "2Ij36nxTutVp"
      },
      "outputs": [],
      "source": [
        "def check_in_mention(current_mention, target_mention):\n",
        "  # check if the current character is one of the target characters by matching mentions\n",
        "\n",
        "  current_mention_list = [i[\"n\"] for i in current_mention]\n",
        "  for i in current_mention_list:\n",
        "    for key,a in target_mention.items():\n",
        "      for b in a:\n",
        "        if i == b:\n",
        "          return key\n",
        "  return -1"
      ]
    },
    {
      "cell_type": "code",
      "execution_count": null,
      "metadata": {
        "id": "Fs2WDnnJuwmj"
      },
      "outputs": [],
      "source": [
        "def get_counter_from_dependency_list(dep_list):\n",
        "    # return a dictionary in the form of token: token counts\n",
        "    counter=Counter()\n",
        "    for token in dep_list:\n",
        "        term=token[\"w\"]\n",
        "        tokenGlobalIndex=token[\"i\"]\n",
        "        counter[term]+=1\n",
        "    return counter"
      ]
    },
    {
      "cell_type": "code",
      "execution_count": null,
      "metadata": {
        "id": "PgsJigMWu2YT"
      },
      "outputs": [],
      "source": [
        "def make_lemma(word):\n",
        "  doc = nlp(word)\n",
        "  a = \"\"\n",
        "  for x in range(len(doc)):\n",
        "    if x == 0:\n",
        "      a += doc[x].lemma_\n",
        "    else:\n",
        "      a += \" \"\n",
        "      a += doc[x].lemma_\n",
        "  return a"
      ]
    },
    {
      "cell_type": "code",
      "execution_count": null,
      "metadata": {
        "id": "B9zQctfHvBTd"
      },
      "outputs": [],
      "source": [
        "def get_agent_patient(data,target_mentions):\n",
        "  # get agent and patient information of a list of target charcters\n",
        "\n",
        "  character_agent_patient = []\n",
        "  for character in data[\"characters\"]:\n",
        "    \n",
        "    agentList=character[\"agent\"]\n",
        "    patientList=character[\"patient\"]\n",
        "\n",
        "\n",
        "    mentions=character[\"mentions\"]\n",
        "    proper_mentions=mentions[\"proper\"]\n",
        "\n",
        "    character_information = {}\n",
        "\n",
        "    # check if the characters have proper mentions first, then check whether the character is one of the target characters\n",
        "    if len(mentions[\"proper\"]) > 0 and check_in_mention(proper_mentions,target_mentions) != -1:\n",
        "\n",
        "        character_information[\"name\"] = check_in_mention(proper_mentions,target_mentions)\n",
        "\n",
        "        printTop=None\n",
        "\n",
        "        agent_dict = {}\n",
        "        patient_dict = {}\n",
        "\n",
        "        for k, v in get_counter_from_dependency_list(agentList).most_common(printTop):\n",
        "            k = make_lemma(k)\n",
        "            agent_dict[k] = v\n",
        "       \n",
        "\n",
        "        for k, v in get_counter_from_dependency_list(patientList).most_common(printTop):\n",
        "            k = make_lemma(k)\n",
        "            patient_dict[k] = v\n",
        "       \n",
        "\n",
        "        character_information[\"agent\"] = agent_dict\n",
        "        character_information[\"patient\"] = patient_dict\n",
        "    if character_information != {}:\n",
        "      character_agent_patient.append(character_information)\n",
        "      \n",
        "  return character_agent_patient"
      ]
    },
    {
      "cell_type": "code",
      "execution_count": null,
      "metadata": {
        "id": "kvDyTmb4vG7i"
      },
      "outputs": [],
      "source": [
        "def calculate_power(character):\n",
        "  # calculate the power of a character using the power frames lexicon\n",
        "  # input: a dictionary \"character_information\" (as in the get_agent_patient function)\n",
        "\n",
        "  agent = character[\"agent\"]\n",
        "  patient = character[\"patient\"]\n",
        "\n",
        "  length = 0\n",
        "  power = 0\n",
        "\n",
        "  # verbs for which the character is the agent\n",
        "  for i in list(agent.keys()):\n",
        "    length += agent[i]\n",
        "    if i in list(agency_power[\"verb\"]):\n",
        "      index = list(agency_power[\"verb\"]).index(i)\n",
        "      if index != -1:\n",
        "        if agency_power[\"power\"][index] == \"power_agent\":\n",
        "          power += 1 * agent[i]\n",
        "        elif agency_power[\"power\"][index] == \"power_theme\":\n",
        "          power -= 1 * agent[i]\n",
        "\n",
        "  # verbs for which the character is the patient\n",
        "  for i in list(patient.keys()):\n",
        "    length += patient[i]\n",
        "    if i in list(agency_power[\"verb\"]):\n",
        "      index = list(agency_power[\"verb\"]).index(i)\n",
        "      if index != -1:\n",
        "        if agency_power[\"power\"][index] == \"power_agent\":\n",
        "          power -= 1 * patient[i]\n",
        "        elif agency_power[\"power\"][index] == \"power_theme\":\n",
        "          power += 1 * patient[i]\n",
        "  try:\n",
        "    normalized_power = power/length # normalize the power\n",
        "  except:\n",
        "    normalized_power = \"/\"\n",
        "\n",
        "  return normalized_power,agent,patient"
      ]
    },
    {
      "cell_type": "markdown",
      "metadata": {
        "id": "_MOyVfglG78C"
      },
      "source": [
        "## For each volume, get the power scores for the major characters from agent and patient verbs, and store them in a dataframe along with general information about the volume and the characters"
      ]
    },
    {
      "cell_type": "code",
      "execution_count": null,
      "metadata": {
        "id": "Yxi6sERtupwU"
      },
      "outputs": [],
      "source": [
        "# the names for the splitted parts in the volume that are also shown in the name of output files by booknlp\n",
        "five_parts = [\"splitted_textaa\",\"splitted_textab\",\"splitted_textac\",\"splitted_textad\",\"splitted_textae\"]"
      ]
    },
    {
      "cell_type": "code",
      "execution_count": null,
      "metadata": {
        "id": "TSRsoYFDvMBj"
      },
      "outputs": [],
      "source": [
        "import spacy\n",
        "nlp = spacy.load(\"en_core_web_sm\")"
      ]
    },
    {
      "cell_type": "code",
      "execution_count": null,
      "metadata": {
        "id": "KsuJ1tx822q4"
      },
      "outputs": [],
      "source": [
        "import re\n",
        "r = re.compile(r'output_splitted.*')"
      ]
    },
    {
      "cell_type": "code",
      "execution_count": null,
      "metadata": {
        "id": "E2zJMRNP2-Am"
      },
      "outputs": [],
      "source": [
        "my_dict = pickle.load(open('/content/all_dict.pickle', 'rb'))\n",
        "agency_power = pd.read_csv(\"/content/agency_power_lemma.csv\")"
      ]
    },
    {
      "cell_type": "code",
      "execution_count": null,
      "metadata": {
        "id": "FWwZmN7LnmTG"
      },
      "outputs": [],
      "source": [
        "for series in series_list:\n",
        "\n",
        "\n",
        "  volume_list = os.listdir(f\"light_novel/{series}\")\n",
        "  volume_list = [i for i in volume_list if i.startswith('Volume')]\n",
        "\n",
        "  print(f\"processing {series}\")\n",
        "\n",
        "  for volume in volume_list:\n",
        "    print(f\"processing {series} {volume}\")\n",
        "\n",
        "    # get the chapter lists for the volume\n",
        "    chapter_list = os.listdir(f\"light_novel/{series}/{volume}\")\n",
        "    chapter_list = [i for i in chapter_list if not i.startswith('.')]\n",
        "\n",
        "    # write the full text (whole book) into a file\n",
        "    fulltext = \"\"\n",
        "    for i in sort_chapters(chapter_list):\n",
        "      with open(f\"light_novel/{series}/{volume}/{i}\") as f:\n",
        "        fulltext += f.read()\n",
        "\n",
        "    with open(f\"light_novel/{series}/{volume}/full_text\", 'w') as f:\n",
        "      f.write(fulltext)\n",
        "    \n",
        "    # split the full texts into five nearly equal parts\n",
        "    a = f\"/content/light_novel/{series}/{volume}/full_text\"\n",
        "    b = f\"/content/light_novel/{series}/{volume}/splitted_text\"\n",
        "\n",
        "    !split -n l/5 {a} {b}\n",
        "\n",
        "    # process the whole book with booknlp\n",
        "    inputFile=f\"/content/light_novel/{series}/{volume}/full_text\"\n",
        "    outputDir=f\"/content/light_novel/{series}/{volume}/{series}_{volume}_output\"\n",
        "    idd=f\"{series}_{volume}\"\n",
        "\n",
        "    booknlp.process(inputFile, outputDir, idd)\n",
        "\n",
        "    # get the 9 characters with the largest number of mention counts (these are the major characters)\n",
        "    data=proc(f\"{outputDir}/{idd}.book\")\n",
        "    character_count={}\n",
        "    for i in data[\"characters\"]:\n",
        "      character_id=i[\"id\"]\n",
        "      mention = i[\"mentions\"][\"proper\"]\n",
        "      count=i[\"count\"]\n",
        "      if len(mention) > 0:\n",
        "        character_count[character_id] = count\n",
        "\n",
        "\n",
        "      top_9 = sorted(list(character_count.values()))[-9:]\n",
        "      # record the ids for the top 9 major characters\n",
        "      max_keys = [k for k, v in character_count.items() if v in top_9]\n",
        "\n",
        "\n",
        "      \n",
        "    character_list = []\n",
        "    mentions = {}\n",
        "\n",
        "    for i in data[\"characters\"]:\n",
        "\n",
        "      character_information = {}\n",
        "      mention = i[\"mentions\"][\"proper\"] # record proper mention of the character\n",
        "      referential_gender_distribution=referential_gender_prediction=\"unknown\"\n",
        "\n",
        "      if i[\"g\"] is not None and i[\"g\"] != \"unknown\":\n",
        "          referential_gender_distribution=i[\"g\"][\"inference\"]\n",
        "          referential_gender=i[\"g\"][\"argmax\"] # record the referential gender of the character by taking argmax\n",
        "\n",
        "      # check if is one of the major characters by matching the id\n",
        "      if len(mention) >0 and i[\"id\"] in max_keys:\n",
        "        max_proper_mention=mention[0][\"n\"]\n",
        "        character_information[\"name\"] = max_proper_mention # set the name to be the proper mention that is used most often\n",
        "        character_information[\"gender\"] = referential_gender # set the gender\n",
        "        if character_information != {}:\n",
        "          character_list.append(character_information) # add information of the character to the character_list\n",
        "        # record all proper mentions for the character, and save this to the dictionary \"mentions\"\n",
        "        mentions[mention[0][\"n\"]] = [i[\"n\"] for i in mention] \n",
        "\n",
        "    # create a dataframe for storing character information\n",
        "    character_list = pd.DataFrame(character_list)\n",
        "\n",
        "    arr = np.array(character_list[\"gender\"])\n",
        "    if np.all(arr == arr[0]):\n",
        "      continue # if all major characters are from the same gender, skip this volume as it does not give any comparisons\n",
        "\n",
        "    # set up basic structure of the dataframe, and put in information about the volume and series\n",
        "    power_df = character_list.copy()\n",
        "    power_df[[\"power1\",\"power2\",\"power3\",\"power4\",\"power5\",\"agent1\",\"agent2\",\"agent3\",\"agent4\",\"agent5\",\"patient1\",\"patient2\",\"patient3\",\"patient4\",\"patient5\"]] = 0\n",
        "    power_df[\"series_name\"] = f\"{series}\"\n",
        "    power_df[\"volume_name\"] = f\"{volume}\"\n",
        "    power_df[\"genre\"] = str(my_dict[f\"{series}\"][\"genre\"])\n",
        "    \n",
        "    k = 1\n",
        "    for i in five_parts:\n",
        "      inputFile = f\"/content/light_novel/{series}/{volume}/{i}\"\n",
        "      outputDir = f\"/content/light_novel/{series}/{volume}/output_{i}\"\n",
        "      idd = f\"{series}_{volume}_{i}\"\n",
        "\n",
        "      if any(s==f\"output_{i}\" for s in os.listdir(f\"light_novel/{series}/{volume}\")) == False:\n",
        "        booknlp.process(inputFile, outputDir, idd)\n",
        "\n",
        "      data=proc(f\"{outputDir}/{idd}.book\")\n",
        "      power_list = {}\n",
        "      for character in get_agent_patient(data,mentions):\n",
        "        score, agent, patient = calculate_power(character)\n",
        "        power_list[character[\"name\"]] = [score, agent, patient]\n",
        "      for a in range(9):\n",
        "        current_name = power_df.iloc[a,0]\n",
        "        try:\n",
        "          power_df.loc[a,f\"power{k}\"] = power_list[current_name][0]\n",
        "          power_df.loc[a,f\"agent{k}\"] = str(power_list[current_name][1])\n",
        "          power_df.loc[a,f\"patient{k}\"] = str(power_list[current_name][2])\n",
        "        except:\n",
        "          power_df.loc[a,f\"power{k}\"] = \"/\"\n",
        "          power_df.loc[a,f\"agent{k}\"] = \"/\"\n",
        "          power_df.loc[a,f\"patient{k}\"] = \"/\"\n",
        "      k = k+1\n",
        "\n",
        "    print(power_df)\n",
        "    power_df.to_csv(f'/content/light_novel/{series}/{volume}/{series}_{volume}_power_df_1024.csv', index = False)"
      ]
    },
    {
      "cell_type": "code",
      "execution_count": null,
      "metadata": {
        "id": "Tp1Y5H0GakTo"
      },
      "outputs": [],
      "source": [
        "# !zip -r /content/light_novel_0701.zip /content/light_novel"
      ]
    },
    {
      "cell_type": "code",
      "execution_count": null,
      "metadata": {
        "id": "YXQYDtM-cLuO"
      },
      "outputs": [],
      "source": [
        "# create an empty dataframe to gather the result from all volumes in the corpus\n",
        "power = pd.DataFrame(columns = [\"name\",\"gender\",\"power1\",\"power2\",\"power3\",\"power4\",\"power5\",\n",
        "                                \"agent1\",\"agent2\",\"agent3\",\"agent4\",\"agent5\",\n",
        "                                \"patient1\",\"patient2\",\"patient3\",\"patient4\",\"patient5\",\"series_name\",\"volume_name\",\"genre\"])"
      ]
    },
    {
      "cell_type": "code",
      "execution_count": null,
      "metadata": {
        "id": "LAKwDYJGbtrc"
      },
      "outputs": [],
      "source": [
        "for series in series_list:\n",
        "\n",
        "  volume_list = os.listdir(f\"/content/light_novel/{series}\")\n",
        "  volume_list = [i for i in volume_list if i.startswith('Volume')]\n",
        "\n",
        "  print(f\"processing {series}\")\n",
        "\n",
        "  for volume in volume_list:\n",
        "    print(f\"processing {series} {volume}\")\n",
        "\n",
        "    try: \n",
        "      mycsv = pd.read_csv(f\"/content/light_novel/{series}/{volume}/{series}_{volume}_power_df_new.csv\")\n",
        "      power = pd.concat([power, mycsv], ignore_index = True, axis = 0)\n",
        "    except:\n",
        "      continue"
      ]
    },
    {
      "cell_type": "code",
      "execution_count": null,
      "metadata": {
        "id": "yEcswR2mcg-K"
      },
      "outputs": [],
      "source": [
        "power.to_csv('/content/power_normalized_new.csv', index = False)"
      ]
    },
    {
      "cell_type": "markdown",
      "metadata": {
        "id": "uq1OHcS5ecOA"
      },
      "source": [
        "## get modifier and possessions of the major characters"
      ]
    },
    {
      "cell_type": "code",
      "execution_count": null,
      "metadata": {
        "id": "XoaBoD6RefQn"
      },
      "outputs": [],
      "source": [
        "def get_mod_pos(series,volume,name):\n",
        "  # input: series name, volume name, name of character\n",
        "  # output: top 10 poss and top 10 mod\n",
        "  data = proc(f\"/content/light_novel/{series}/{volume}/{series}_{volume}_output/{series}_{volume}.book\")\n",
        "\n",
        "  # check if it is one of the major characters\n",
        "  for character in data[\"characters\"]:\n",
        "    if len(character[\"mentions\"][\"proper\"]) == 0 or character[\"mentions\"][\"proper\"][0][\"n\"] != name:\n",
        "      continue\n",
        "\n",
        "    possList=character[\"poss\"]\n",
        "    modList=character[\"mod\"]\n",
        "\n",
        "    mod_dict = {}\n",
        "    poss_dict = {}\n",
        "\n",
        "    printTop = None\n",
        "\n",
        "    for k, v in get_counter_from_dependency_list(possList).most_common(printTop):\n",
        "      k = make_lemma(k)\n",
        "      poss_dict[k] = v\n",
        "       \n",
        "\n",
        "    for k, v in get_counter_from_dependency_list(modList).most_common(printTop):\n",
        "      k = make_lemma(k)\n",
        "      mod_dict[k] = v\n",
        "\n",
        "  return poss_dict,mod_dict"
      ]
    },
    {
      "cell_type": "code",
      "execution_count": null,
      "metadata": {
        "id": "4vWkA5uwQmbc"
      },
      "outputs": [],
      "source": [
        "# write the modifer and possession information to the dataframe\n",
        "\n",
        "power[[\"poss\",\"mod\"]] = 0\n",
        "\n",
        "for i in range(len(power)):\n",
        "  print(i)\n",
        "  poss, mod = get_mod_pos(power.loc[i,\"series_name\"],power.loc[i,\"volume_name\"],power.loc[i,\"name\"])\n",
        "  power.loc[i,\"mod\"] = str(mod)\n",
        "  power.loc[i,\"poss\"] = str(poss)"
      ]
    },
    {
      "cell_type": "code",
      "execution_count": null,
      "metadata": {
        "id": "y019oByFW8q4"
      },
      "outputs": [],
      "source": [
        "power.to_csv('/content/output_1025.csv')"
      ]
    },
    {
      "cell_type": "code",
      "execution_count": null,
      "metadata": {
        "id": "_JHe2DSJJqjl"
      },
      "outputs": [],
      "source": []
    }
  ],
  "metadata": {
    "colab": {
      "collapsed_sections": [],
      "name": "lightnovel_get_power.ipynb",
      "provenance": []
    },
    "kernelspec": {
      "display_name": "Python 3",
      "name": "python3"
    },
    "language_info": {
      "name": "python"
    }
  },
  "nbformat": 4,
  "nbformat_minor": 0
}
